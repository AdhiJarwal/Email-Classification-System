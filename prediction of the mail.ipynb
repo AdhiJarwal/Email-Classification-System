{
 "cells": [
  {
   "cell_type": "code",
   "execution_count": 1,
   "id": "perceived-linux",
   "metadata": {},
   "outputs": [
    {
     "name": "stdout",
     "output_type": "stream",
     "text": [
      "Final list containing the words of all the pass file after lematizing and removing stop words\n",
      "\n",
      "\n",
      "['Steam', 'account', 'password', 'successfully', 'changed.', 'sending', 'notice', 'ensure', 'privacy', 'security', 'Steam', 'account.', 'authorized', 'change,', 'action', 'necessary.', 'authorize', 'change,', 'please', 'change', 'Steam', 'password,', 'consider', 'changing', 'email', 'password', 'well', 'ensure', 'account', 'security.', 'unable', 'access', 'account,', 'may', 'use', 'account', 'specific', 'recovery', 'link', 'assistance', 'recovering', 'self-locking', 'account.', 'Hello', 'Adhiraj21#9939671,', 'received', 'request', 'reset', 'password.', 'so,', 'click', 'link', 'below.', 'link', 'valid', 'twenty-four', 'hours', 'used', 'once.', 'request', 'reset', 'password,', 'click', 'here.', 'Hi', 'Adhiraj,', 'received', 'password', 'reset', 'request', 'account.', 'made', 'request,', 'please', 'click', 'button', 'reset', 'password.', 'file', 'request,', 'please', 'ignore', 'email.', 'Reset', 'Password', 'password', 'change', 'click', 'button', 'create', 'new', 'password.', 'Hi', 'a_d_jarwal,', 'got', 'request', 'reset', 'Instagram', 'password.', 'Reset', 'Password.', 'ignore', 'message,', 'password', 'changed.', 'request', 'password', 'reset,', 'let', 'us', 'know.', 'Hi', 'Adhiraj,', 'received', 'request', 'reset', 'Internshala', 'password.', 'Please', 'click', 'link', 'update', 'password.', 'Reset', 'Password', 'Please', 'ignore', 'email', 'wish', 'reset', 'password.', 'request', 'password', 'reset,', 'please', 'let', 'us', 'know.', 'Someone', 'requested', 'change', 'infytq', \"account's\", 'credentials.', 'you,', 'click', 'link', 'reset', 'them.Link', 'reset', 'credentialsThis', 'link', 'expire', 'within', '5', 'minutes.If', 'want', 'reset', 'credentials,', 'ignore', 'message', 'nothing', 'changed.', 'Hi', 'XYZ9119,You', 'resetting', 'Remini', \"account's\", 'password.Please', 'find', 'verification', 'code', 'put', 'app.']\n",
      "\n",
      "\n",
      "Final list containing the words of all the pass file after lematizing and removing stop words\n",
      "\n",
      "\n",
      "['Dear', 'Adhiraj', 'Madansing', 'Jarwal,', 'Aadhaar', 'number', 'XXXX', 'XXXX', '5471', 'used', 'successfully', 'carry', 'Authentication', 'using', '\"OTP', '\"', '08/03/2021', '12:15:52', 'Hrs', 'device', 'deployed', '\"UIDAI', 'Online', 'Services\"', '.', 'Hi', 'Adhiraj', 'Jarwal,', 'Please', 'enter', 'OTP', 'mentioned', 'verify', 'email.', 'valid', '5', 'minutes.', '391348.', 'Please', 'share', 'otp', 'anyone.', 'wasnâ€™t', 'you,', 'contact', 'support', 'team', 'help@unacademy.com', 'Dear', 'SBI', 'customer,', 'One', 'Time', 'Password', '(OTP)', 'email', 'temporarily', 'disabled', 'INB', 'activities', 'done', 'INB', 'Yono.', 'OTP', 'sent', 'SMS', 'Regd', 'Mobile', 'No.', 'Further,', 'OTP', 'made', 'mandatory', 'merchant', '(eCommerce)', 'transactions', 'irrespective', 'amount.', 'Please', 'ensure', 'register', 'domestic', '/', 'international', 'mobile', 'number', 'Bank', 'records', 'seamless', 'online', 'transactions.', 'Wishing', 'Happy', '&', 'Prosperous', 'New', 'Year!!', 'authenticate,', 'please', 'use', 'following', 'One', 'Time', 'Password', '(OTP):', '948975', 'share', 'OTP', 'anyone.', 'Amazon', 'takes', 'account', 'security', 'seriously.', 'Amazon', 'Customer', 'Service', 'never', 'ask', 'disclose', 'verify', 'Amazon', 'password,', 'OTP,', 'credit', 'card,', 'banking', 'account', 'number.', 'receive', 'suspicious', 'email', 'link', 'update', 'account', 'information,', 'click', 'linkâ€”instead,', 'report', 'email', 'Amazon', 'investigation.', 'hope', 'see', 'soon.', 'Email', 'OTP', 'MHT', '-', 'CET', '2019', '100276', 'OTP', 'valid', '5', 'Minutes', 'only.', 'Thanks', 'Regards,\\n', 'OTP', 'Email', 'Verfication', '824904.', 'OTP', 'valid', '30', 'minutes.\\nThanks', 'Regards', 'Dear', 'Sir', '/', 'Madam,Your', 'One', 'Time', 'Password(OTP)', ':', '082817.Your', 'OTP', 'expire', '5', 'min.Do', 'share', 'OTP', 'anyone', 'including', 'Depository', 'Participant', '(DP).']\n",
      "\n",
      "\n",
      "Final list containing the words of all the pass file after lematizing and removing stop words\n",
      "\n",
      "\n",
      "['Dear', 'Candidate,', 'Thank', 'payment.', 'Please', 'refer', 'details', 'transaction:', 'Payment', 'Status', ':', 'SUCCESS', 'IBPS', 'Transaction', 'ID', ':', 'rbirpoafeb21LV390256433v1', 'Payment', 'Date', ':', '02/03/2021', '12:21:07', 'Application', 'Fee', '(Rs.Ps)', ':', '450.00', 'Payment', 'Gateway', 'Transaction', 'ID', ':', 'VHD49794961838\\nPlease', 'quote', 'Transaction', 'ID', 'queries', 'relating', 'request.', 'Kindly', 'note:', 'print', 'E-Receipt', 'Application', 'successful', 'payment,', 'please', 'visit', 'Registration', 'Portal', 'https://ibpsonline.ibps.in/rbirpoafeb21.', 'also', 'receive', 'SMS', '/', 'Email', 'notification', 'IBPS', 'regards', 'application.', 'Hi', 'ADHIRAJ', 'JARWAL,', 'Thank', 'using', 'Amazon', 'Pay', 'balance.', 'payment', 'Rs', '577.00', 'Amazon.in', 'successful.', 'report', 'unauthorized', 'transaction,', 'please', 'click', 'Dear', 'Customer,', 'Refund', 'Amazon.in', 'Order', 'applied', 'Amazon', 'Pay', 'balance.', 'check', 'balance', 'visiting', 'https://www.amazon.in/gp/css/gc/payment.', 'use', 'Amazon', 'Pay', 'balance', 'subsequent', 'purchases', 'www.amazon.in', 'till', 'expiry.', 'questions', 'please', 'visit', 'www.amazon.in/help', 'call', 'e-mail', 'us', 'Customer', 'Service', 'box', 'right', 'side', 'page.\\nAmazon', 'Customer', 'Service', 'Dear', 'Investor,', 'hope', 'dear', 'ones', 'safe.', 'Greetings', 'festive', 'season.', 'reference', 'changes', 'cut-off', 'timings', 'Mutual', 'Fund', 'transactions', 'basis', 'SEBI', 'AMFI', 'Communication', 'received', 'us.', 'per', 'communication', 'received,', 'new', 'cut-off', 'timings', 'effect', '9th', 'November', '2020', 'Hi,', 'approved', 'refund', 'â‚¹20.00', 'Stickman', 'Master:', 'League', 'Shadow', '-', 'Ninja', 'Fight,', 'transaction', 'ID', 'GPA.3341-9561-6516-78819.', 'refund', 'processed', 'back', 'payment', 'method', 'used', 'make', 'purchase.', 'Dear', 'Sumit', ',We', 'couldnâ€™t', 'complete', 'charge', 'payment', 'card', 'process', 'Audible', 'Membership', 'fee.To', 'avoid', 'delays', 'getting', 'new', 'credits,', 'cancellation', 'membership,', \"let's\", 'make', 'sure', 'everything', 'date.', 'Go', 'Account', 'Details', 'page', 'review', 'payment', 'card', 'information.', 'Check', 'see', 'card', 'number,', 'expiration', 'date,', 'billing', 'address', 'correct.If', 'believe', 'information', 'up-to-date,', 'please', 'contact', 'payment', 'card', 'copany', 'find', 'declined', 'charge', 'membership', 'fee.Sincerely,The', 'Audible', 'Team', 'Dear', 'Sumit', ',We', 'couldnâ€™t', 'complete', 'charge', 'payment', 'card', 'process', 'Audible', 'Membership', 'fee.To', 'avoid', 'delays', 'getting', 'new', 'credits,', 'cancellation', 'membership,', \"let's\", 'make', 'sure', 'everything', 'date.', 'Go', 'Account', 'Details', 'page', 'review', 'payment', 'card', 'information.', 'Check', 'see', 'card', 'number,', 'expiration', 'date,', 'billing', 'address', 'correct.If', 'believe', 'information', 'up-to-date,', 'please', 'contact', 'payment', 'card', 'copany', 'find', 'declined', 'charge', 'membership', 'fee.Sincerely,The', 'Audible', 'Team']\n",
      "\n",
      "\n",
      "Final list containing the words of all the pass file after lematizing and removing stop words\n",
      "\n",
      "\n",
      "['Sarthak,', 'checkout', 'Grand', 'Winter', 'Internships', 'Carnival,Sarthak,', 'already', 'missed', 'lot', '2020', 'miss', 'internships', 'love', 'experiences', 'deserve.', 'Internshala', 'presents', \"'Grand\", 'Winter', 'Internships', \"Carnival'\", 'celebrate', 'grandiose', 'way,10,000+', 'virtual', '&', 'in-office', 'internship', 'opportunities', 'high', 'stipend', 'access', 'internships', 'UrbanClap,', 'Kotak', 'Mahindra,', 'Dentsu', 'International', 'India,', 'big', 'brands', \"others.What's\", 'exciting,You', 'participate', 'contest', 'win', 'rewards', 'INR', '10,000,', 'Internshala', 'Training', 'choice,', 'more!', 'Hi', 'Sarthak,Grab', 'steering', 'career', 'roll-out', 'success', 'Internshalaâ€™s', 'certified', 'online', 'trainings.From', 'Financial', 'Modeling', 'Valuation', 'Business', 'Communication', 'Skills,', 'Digital', 'Marketing', \"Beginner's\", 'Trading', 'Certification', 'Advanced', 'Excel', 'French', 'Language', 'covered', 'all.', 'Choose', 'training', 'get', 'industry-recognized', 'certificate', 'Internshala', 'recognised', '1.5', 'lac', 'companies,', 'across', 'India,', 'hire', 'talent.', 'waiting', 'for,', 'Take', 'chance', 'build', 'skills', 'let', 'ambition', 'take', 'far', 'ahead', 'canâ€™t', 'keep', 'up.', 'Internshala', 'offering', 'certified', 'online', 'trainings.', 'Data', 'Science', 'Marketing,', 'AutoCAD', 'Android,', 'Ethical', 'Hacking', 'Creative', 'Writing,', 'Financial', 'Modeling', 'French', '', 'choose', 'training', 'get', 'industry', 'recognised', 'certificate', 'Internshala.', 'Sarthak,', 'tumse', 'ho', 'paega.Taking', 'first', 'step', 'towards', 'dream', 'career', 'takes', 'confidence.', 'arenâ€™t', 'fully', 'prepared,', 'confidence', 'takes', 'shot.', 'Donâ€™t', 'let', 'nerves', 'get', 'best', 'you.', 'Internshala', 'Trainings', 'one', 'hand,', 'confidence', 'other,', 'show', 'world', '#TumseNaHoPaega.', 'Internshala', 'offering', '65%', 'certified', 'online', 'trainings.From', 'Data', 'Science', 'Marketing,', 'AutoCAD', 'Android,', 'Ethical', 'Hacking', 'Creative', 'Writing,', 'Financial', 'Modeling', 'French', '', 'something', 'everyone.', 'Choose', 'training', '65%', 'get', 'industry', 'recognised', 'certificate', 'Internshala', '(used', '1.5', 'lac', 'companies,', 'across', 'India,', 'hire', 'talent).So,', 'waiting', 'for,Improve', 'skills', 'cupid-approved', 'trainings', 'better', 'ex,', 'next!Offer', 'valid', 'till', '15th', 'Feb.', 'Pyaar', 'mohobbat', 'dhoka', 'hai,', 'padhle', 'Sarthak', 'mauka', 'haiHi', 'Sarthak,This', \"Valentine's\", 'Day,', 'cupid', 'striking', 'amazing', 'offer', ':)']\n"
     ]
    }
   ],
   "source": [
    "#importing\n",
    "import pandas as pd\n",
    "from nltk.stem import LancasterStemmer\n",
    "from nltk.stem import PorterStemmer\n",
    "from nltk.corpus import stopwords\n",
    "\n",
    "#this are the list which stores the the words in the list format of individuals like reset password, otp and transaction \n",
    "pass_stop_words = []\n",
    "otp_stop_words = []\n",
    "transaction_stop_words = []\n",
    "intershala_stop_words = []\n",
    "promotion_stop_words = []\n",
    "\n",
    "eng_stopwords = stopwords.words('english')\n",
    "\n",
    "#declaring obeject for porter and lancaster\n",
    "l = LancasterStemmer()\n",
    "p = PorterStemmer()\n",
    "\n",
    "#this while loop will read all the csv files \n",
    "i = 1\n",
    "while i<=7:\n",
    "    file_pass_open = open(\"pass\" + str(i) + \".csv\",\"r\")\n",
    "    file_pass_read = file_pass_open.read()\n",
    "    \n",
    "    #this will convert into the list\n",
    "    pass_list = list(file_pass_read.split(\" \"))\n",
    "    \n",
    "    #this will apply the lancaster on the all words\n",
    "    for word in pass_list:\n",
    "         pass_l_stemmer = l.stem(word)\n",
    "         #here we used w.lower() to ignore the case sensitivity\n",
    "         if word.lower() not in eng_stopwords:\n",
    "             pass_stop_words.append(word)\n",
    "            \n",
    "                    \n",
    "         #this will print all the stemmer words\n",
    "         #print(pass_l_stemmer)\n",
    "    \n",
    "    i = i+1\n",
    "\n",
    "#this will print the final list after removing stop words and after performing lemitizing\n",
    "print(\"Final list containing the words of all the pass file after lematizing and removing stop words\\n\\n\")\n",
    "print(pass_stop_words)\n",
    "\n",
    "#this while loop will read all the csv files \n",
    "i = 1\n",
    "while i<=7:\n",
    "    file_otp_open = open(\"otp\" + str(i) + \".csv\",\"r\")\n",
    "    file_otp_read = file_otp_open.read()\n",
    "    \n",
    "    #this will convert into the list\n",
    "    otp_list = list(file_otp_read.split(\" \"))\n",
    "    \n",
    "    #this will apply the lancaster on the all words\n",
    "    for word in otp_list:\n",
    "         otp_l_stemmer = l.stem(word)\n",
    "         #here we used w.lower() to ignore the case sensitivity\n",
    "         if word.lower() not in eng_stopwords:\n",
    "             otp_stop_words.append(word)\n",
    "            \n",
    "                    \n",
    "         #this will print all the stemmer words\n",
    "         #print(otp_l_stemmer)\n",
    "    \n",
    "    i = i+1\n",
    "\n",
    "#this will print the final list after removing stop words and after performing lemitizing\n",
    "print(\"\\n\\nFinal list containing the words of all the pass file after lematizing and removing stop words\\n\\n\")\n",
    "print(otp_stop_words)\n",
    "\n",
    "\n",
    "\n",
    "#this while loop will read all the csv files \n",
    "i = 1\n",
    "while i<=7:\n",
    "    file_transaction_open = open(\"transaction\" + str(i) + \".csv\",\"r\")\n",
    "    file_transaction_read = file_transaction_open.read()\n",
    "    \n",
    "    #this will convert into the list\n",
    "    transaction_list = list(file_transaction_read.split(\" \"))\n",
    "    \n",
    "    #this will apply the lancaster on the all words\n",
    "    for word in transaction_list:\n",
    "         transaction_l_stemmer = l.stem(word)\n",
    "         #here we used w.lower() to ignore the case sensitivity\n",
    "         if word.lower() not in eng_stopwords:\n",
    "             transaction_stop_words.append(word)\n",
    "            \n",
    "                    \n",
    "         #this will print all the stemmer words\n",
    "         #print(transaction_l_stemmer)\n",
    "    \n",
    "    i = i+1\n",
    "\n",
    "#this will print the final list after removing stop words and after performing lemitizing\n",
    "print(\"\\n\\nFinal list containing the words of all the pass file after lematizing and removing stop words\\n\\n\")\n",
    "print(transaction_stop_words)\n",
    "\n",
    "#this while loop will read all the csv files \n",
    "i = 1\n",
    "while i<=7:\n",
    "    file_intershala_open = open(\"intershala\" + str(i) + \".csv\",\"r\")\n",
    "    file_intershala_read = file_intershala_open.read()\n",
    "    \n",
    "    #this will convert into the list\n",
    "    intershala_list = list(file_intershala_read.split(\" \"))\n",
    "    \n",
    "    #this will apply the lancaster on the all words\n",
    "    for word in intershala_list:\n",
    "         intershala_l_stemmer = l.stem(word)\n",
    "         #here we used w.lower() to ignore the case sensitivity\n",
    "         if word.lower() not in eng_stopwords:\n",
    "             intershala_stop_words.append(word)\n",
    "            \n",
    "                    \n",
    "         #this will print all the stemmer words\n",
    "         #print(intershala_l_stemmer)\n",
    "    \n",
    "    i = i+1\n",
    "\n",
    "#this will print the final list after removing stop words and after performing lemitizing\n",
    "print(\"\\n\\nFinal list containing the words of all the pass file after lematizing and removing stop words\\n\\n\")\n",
    "print(intershala_stop_words)\n",
    "\n",
    "\n"
   ]
  },
  {
   "cell_type": "code",
   "execution_count": null,
   "id": "ebedd660",
   "metadata": {},
   "outputs": [],
   "source": [
    "#if the stopword txt is not found then download using following method\n",
    "#import nltk\n",
    "#nltk.download('stopwords')"
   ]
  },
  {
   "cell_type": "code",
   "execution_count": 2,
   "id": "peaceful-gravity",
   "metadata": {},
   "outputs": [],
   "source": [
    "#printing all english stopwords\n",
    "\n",
    "#from nltk.corpus import stopwords\n",
    "\n",
    "#a = stopwords.words('english')\n",
    "\n",
    "#this function is used for aadding new stop words by your choice into the stopwords list\n",
    "#def dummy_fun(a):\n",
    "    #while True:\n",
    "       #inp = input()\n",
    "        #a.append(inp)\n",
    "        #if you want to stop adding the words, then type no,\n",
    "        #then the function eill raise error and the execution of program will stop\n",
    "       # if(inp==\"no\"):\n",
    "           # raise StopIteration\n",
    "        "
   ]
  },
  {
   "cell_type": "code",
   "execution_count": null,
   "id": "compatible-elevation",
   "metadata": {},
   "outputs": [],
   "source": [
    "#donot run\n",
    "#calling the function\n",
    "#dummy_fun(a)\n"
   ]
  },
  {
   "cell_type": "code",
   "execution_count": null,
   "id": "serious-distinction",
   "metadata": {},
   "outputs": [],
   "source": [
    "#a"
   ]
  },
  {
   "cell_type": "code",
   "execution_count": null,
   "id": "prompt-fancy",
   "metadata": {},
   "outputs": [],
   "source": [
    "#@@@ Method 1\n",
    "#@@@ do not use both the methods at a time beacuse we are passing value of only one method\n",
    "#we will take a random email to check its type\n",
    "#if we are using this, then first we have to paste our email which we have to check into the checking.csv and then this will\n",
    "#read that email form that csv and will convert it into the list \n",
    "\n",
    "file2 = open(\"checking.csv\",\"r\")\n",
    "file2_read = file2.read()\n",
    "file2_read\n",
    "file2_splited = list(file2_read.split(\" \"))\n",
    "print(\"Email to test : \")\n",
    "print(file2_splited)"
   ]
  },
  {
   "cell_type": "code",
   "execution_count": 4,
   "id": "58df8bb4",
   "metadata": {},
   "outputs": [
    {
     "name": "stdout",
     "output_type": "stream",
     "text": [
      "Enter Email to test : \n",
      "hello adhiraj your otp for the phonepe is 2426 and this otp will be valid only for 5 min please do not share this otp to anyone\n",
      "['hello', 'adhiraj', 'your', 'otp', 'for', 'the', 'phonepe', 'is', '2426', 'and', 'this', 'otp', 'will', 'be', 'valid', 'only', 'for', '5', 'min', 'please', 'do', 'not', 'share', 'this', 'otp', 'to', 'anyone']\n"
     ]
    }
   ],
   "source": [
    "#@@@ Method 2\n",
    "#@@@ do not use both the methods at a time beacuse we are passing value of only one method\n",
    "#this will directly take input from the user and will check the type of email\n",
    "test_mail = input(\"Enter Email to test : \\n\")\n",
    "file2_splited = list(test_mail.split())\n",
    "print(file2_splited)"
   ]
  },
  {
   "cell_type": "code",
   "execution_count": 5,
   "id": "toxic-portugal",
   "metadata": {},
   "outputs": [
    {
     "name": "stdout",
     "output_type": "stream",
     "text": [
      "Comman Elements are : ['please', 'valid', '5']\n",
      "3\n"
     ]
    }
   ],
   "source": [
    "#this will check the comman words from both the list\n",
    "comman_elements_of_pass_and_email_to_check = (set(file2_splited).intersection(set(pass_stop_words)))\n",
    "comman_elements_list1 = list(comman_elements_of_pass_and_email_to_check)\n",
    "print(\"Comman Elements are : \",end='')\n",
    "print(comman_elements_list1)\n",
    "\n",
    "#this will count the length of the comman words\n",
    "c1 = len(comman_elements_list1)\n",
    "print(c1)"
   ]
  },
  {
   "cell_type": "code",
   "execution_count": 6,
   "id": "parallel-tulsa",
   "metadata": {},
   "outputs": [
    {
     "name": "stdout",
     "output_type": "stream",
     "text": [
      "Comman Elements are : ['anyone', 'please', 'share', '5', 'valid', 'otp']\n",
      "6\n"
     ]
    }
   ],
   "source": [
    "#this will check the comman words from both the list\n",
    "comman_elements_of_otp_and_email_to_check = (set(file2_splited).intersection(set(otp_stop_words)))\n",
    "comman_elements_list2 = list(comman_elements_of_otp_and_email_to_check)\n",
    "print(\"Comman Elements are : \",end='')\n",
    "print(comman_elements_list2)\n",
    "\n",
    "#this will count the length of the comman words\n",
    "c2 = len(comman_elements_list2)\n",
    "print(c2)"
   ]
  },
  {
   "cell_type": "code",
   "execution_count": 7,
   "id": "promotional-surgery",
   "metadata": {},
   "outputs": [
    {
     "name": "stdout",
     "output_type": "stream",
     "text": [
      "Comman Elements are : ['please']\n",
      "1\n"
     ]
    }
   ],
   "source": [
    "#this will check the comman wirds from both the list\n",
    "comman_elements_of_transaction_and_email_to_check = (set(file2_splited).intersection(set(transaction_stop_words)))\n",
    "comman_elements_list3 = list(comman_elements_of_transaction_and_email_to_check)\n",
    "print(\"Comman Elements are : \",end='')\n",
    "print(comman_elements_list3)\n",
    "\n",
    "#this will count the length of the comman words\n",
    "c3 = len(comman_elements_list3)\n",
    "print(c3)"
   ]
  },
  {
   "cell_type": "code",
   "execution_count": 8,
   "id": "empirical-gentleman",
   "metadata": {},
   "outputs": [
    {
     "name": "stdout",
     "output_type": "stream",
     "text": [
      "Comman Elements are : ['valid']\n",
      "1\n"
     ]
    }
   ],
   "source": [
    "#this will check the comman wirds from both the list\n",
    "comman_elements_of_intershala_and_email_to_check = (set(file2_splited).intersection(set(intershala_stop_words)))\n",
    "comman_elements_list4 = list(comman_elements_of_intershala_and_email_to_check)\n",
    "print(\"Comman Elements are : \",end='')\n",
    "print(comman_elements_list4)\n",
    "\n",
    "#this will count the length of the comman words\n",
    "c4 = len(comman_elements_list4)\n",
    "print(c4)"
   ]
  },
  {
   "cell_type": "code",
   "execution_count": 9,
   "id": "monetary-motor",
   "metadata": {},
   "outputs": [
    {
     "name": "stdout",
     "output_type": "stream",
     "text": [
      "Printing the category of the Email ...\n",
      "\n",
      "\n",
      "**************************************************\n",
      "The Email is of OTP Email Category\n",
      "**************************************************\n"
     ]
    }
   ],
   "source": [
    "import time\n",
    "#checking all the possibilities\n",
    "\n",
    "print(\"Printing the category of the Email \",end='')\n",
    "time.sleep(1)\n",
    "print(\".\", end='')\n",
    "time.sleep(1)\n",
    "print(\".\", end='')\n",
    "time.sleep(1)\n",
    "print(\".\")\n",
    "time.sleep(1)\n",
    "print(\"\\n\")\n",
    "print(\"*\"*50)\n",
    "\n",
    "if c1==c2==c3==c4==0:\n",
    "    print(\"Cannot determine the category\")\n",
    "if c1>c2 and c1>c3 and c1>c4:\n",
    "    print(\"The Email is of Reset Password Email Category\")\n",
    "elif c2>c1 and c2>c3 and c2>c4:\n",
    "    print(\"The Email is of OTP Email Category\")\n",
    "elif c3>c2 and c3>c1 and c3>c4:\n",
    "    print(\"The Email is of Transaction Email Category\")\n",
    "elif c4>c2 and c4>c3 and c4>c1:\n",
    "    print(\"The Email is of Intershala Email Category\")\n",
    "print(\"*\"*50)"
   ]
  },
  {
   "cell_type": "code",
   "execution_count": null,
   "id": "desirable-frost",
   "metadata": {},
   "outputs": [],
   "source": []
  }
 ],
 "metadata": {
  "kernelspec": {
   "display_name": "Python 3 (ipykernel)",
   "language": "python",
   "name": "python3"
  },
  "language_info": {
   "codemirror_mode": {
    "name": "ipython",
    "version": 3
   },
   "file_extension": ".py",
   "mimetype": "text/x-python",
   "name": "python",
   "nbconvert_exporter": "python",
   "pygments_lexer": "ipython3",
   "version": "3.10.0"
  }
 },
 "nbformat": 4,
 "nbformat_minor": 5
}
